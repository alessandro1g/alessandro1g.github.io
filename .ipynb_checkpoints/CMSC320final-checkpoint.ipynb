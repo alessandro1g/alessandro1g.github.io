{
 "cells": [
  {
   "cell_type": "markdown",
   "id": "e81fb78d",
   "metadata": {},
   "source": [
    "## Final Project"
   ]
  },
  {
   "cell_type": "markdown",
   "id": "716681e7",
   "metadata": {},
   "source": [
    "Group: Alessandro and Harsh\n",
    "\n",
    "we will be analysing the dataset of infectious diseases."
   ]
  },
  {
   "cell_type": "code",
   "execution_count": null,
   "id": "15d2b039",
   "metadata": {},
   "outputs": [],
   "source": []
  }
 ],
 "metadata": {
  "kernelspec": {
   "display_name": "Python 3",
   "language": "python",
   "name": "python3"
  },
  "language_info": {
   "codemirror_mode": {
    "name": "ipython",
    "version": 3
   },
   "file_extension": ".py",
   "mimetype": "text/x-python",
   "name": "python",
   "nbconvert_exporter": "python",
   "pygments_lexer": "ipython3",
   "version": "3.8.8"
  }
 },
 "nbformat": 4,
 "nbformat_minor": 5
}
