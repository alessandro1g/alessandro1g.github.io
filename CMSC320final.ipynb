{
 "cells": [
  {
   "cell_type": "markdown",
   "id": "e81fb78d",
   "metadata": {},
   "source": [
    "# Final Project: Analysis of "
   ]
  },
  {
   "cell_type": "markdown",
   "id": "8412ec5e",
   "metadata": {},
   "source": [
    "## Introduction:\n",
    "Over the past few year infectious diseases, especially covid, has been on the mind of everyone in the world. Covid caused a lot of governments to spend a lot of time and resources to try to stop its spread and to get everyone vaccinated. According to forbes, Covid caused the highest ever amount of funding for infectious disease companies reaching 2.9 billion dollars. Though there is an all time high in funding, there are still many infectious diseases that have spread among many regions of the world. \n",
    "\n",
    "In this tutorial we will be analysing data related to infectious diseases. This analysis will try to investigate the effect of funding in research on the containment of diseases. We want to know if funding truly has an impact on the diseases. \n",
    "\n",
    "We will begin by loading in data from the CDC and performing exloratory data analysis before "
   ]
  },
  {
   "cell_type": "markdown",
   "id": "e720a9e5",
   "metadata": {},
   "source": [
    "## Data:"
   ]
  },
  {
   "cell_type": "code",
   "execution_count": null,
   "id": "3897992e",
   "metadata": {},
   "outputs": [],
   "source": []
  }
 ],
 "metadata": {
  "kernelspec": {
   "display_name": "Python 3",
   "language": "python",
   "name": "python3"
  },
  "language_info": {
   "codemirror_mode": {
    "name": "ipython",
    "version": 3
   },
   "file_extension": ".py",
   "mimetype": "text/x-python",
   "name": "python",
   "nbconvert_exporter": "python",
   "pygments_lexer": "ipython3",
   "version": "3.8.8"
  }
 },
 "nbformat": 4,
 "nbformat_minor": 5
}
